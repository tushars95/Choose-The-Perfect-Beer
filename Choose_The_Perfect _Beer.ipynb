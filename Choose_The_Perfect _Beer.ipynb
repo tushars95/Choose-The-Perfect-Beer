{
 "cells": [
  {
   "cell_type": "code",
   "execution_count": 1,
   "metadata": {},
   "outputs": [],
   "source": [
    "import numpy as np\n",
    "import pandas as pd\n",
    "from sklearn.preprocessing import LabelEncoder\n",
    "from sklearn.metrics import accuracy_score"
   ]
  },
  {
   "cell_type": "code",
   "execution_count": 2,
   "metadata": {},
   "outputs": [],
   "source": [
    "train = pd.read_csv('Beer Train Data Set.csv')\n",
    "test = pd.read_csv('Beer Test Data Set.csv')"
   ]
  },
  {
   "cell_type": "code",
   "execution_count": 3,
   "metadata": {},
   "outputs": [
    {
     "data": {
      "text/html": [
       "<div>\n",
       "<style scoped>\n",
       "    .dataframe tbody tr th:only-of-type {\n",
       "        vertical-align: middle;\n",
       "    }\n",
       "\n",
       "    .dataframe tbody tr th {\n",
       "        vertical-align: top;\n",
       "    }\n",
       "\n",
       "    .dataframe thead th {\n",
       "        text-align: right;\n",
       "    }\n",
       "</style>\n",
       "<table border=\"1\" class=\"dataframe\">\n",
       "  <thead>\n",
       "    <tr style=\"text-align: right;\">\n",
       "      <th></th>\n",
       "      <th>ABV</th>\n",
       "      <th>Brewing Company</th>\n",
       "      <th>Food Paring</th>\n",
       "      <th>Glassware Used</th>\n",
       "      <th>Beer Name</th>\n",
       "      <th>Ratings</th>\n",
       "      <th>Style Name</th>\n",
       "      <th>Cellar Temperature</th>\n",
       "      <th>Serving Temperature</th>\n",
       "      <th>Score</th>\n",
       "    </tr>\n",
       "  </thead>\n",
       "  <tbody>\n",
       "    <tr>\n",
       "      <th>185638</th>\n",
       "      <td>4.5</td>\n",
       "      <td>9105</td>\n",
       "      <td>(Dessert,Aperitif,Digestive)</td>\n",
       "      <td>PintGlass(orBecker,Nonic,Tumbler),Mug(orSeidel...</td>\n",
       "      <td>141522</td>\n",
       "      <td>0</td>\n",
       "      <td>HerbedSpicedBeer</td>\n",
       "      <td>NaN</td>\n",
       "      <td>45-50</td>\n",
       "      <td>0.00</td>\n",
       "    </tr>\n",
       "    <tr>\n",
       "      <th>185639</th>\n",
       "      <td>4.5</td>\n",
       "      <td>3348</td>\n",
       "      <td>(Barbecue,Italian)Cheese(earthyCamembert,Fonti...</td>\n",
       "      <td>PilsenerGlass(orPokal)</td>\n",
       "      <td>85557</td>\n",
       "      <td>1</td>\n",
       "      <td>AmericanPaleLager</td>\n",
       "      <td>35-40</td>\n",
       "      <td>40-45</td>\n",
       "      <td>4.19</td>\n",
       "    </tr>\n",
       "    <tr>\n",
       "      <th>185640</th>\n",
       "      <td>NaN</td>\n",
       "      <td>8216</td>\n",
       "      <td>Cheese(earthyCamembert,Fontina,nuttyAsiago,Col...</td>\n",
       "      <td>PintGlass(orBecker,Nonic,Tumbler),Mug(orSeidel...</td>\n",
       "      <td>105072</td>\n",
       "      <td>1</td>\n",
       "      <td>EnglishBrownAle</td>\n",
       "      <td>40-45</td>\n",
       "      <td>45-50</td>\n",
       "      <td>3.11</td>\n",
       "    </tr>\n",
       "    <tr>\n",
       "      <th>185641</th>\n",
       "      <td>6.2</td>\n",
       "      <td>1755</td>\n",
       "      <td>(Curried,Thai)Cheese(pepperyMontereyPepperJack...</td>\n",
       "      <td>PintGlass(orBecker,Nonic,Tumbler),Mug(orSeidel...</td>\n",
       "      <td>70788</td>\n",
       "      <td>2</td>\n",
       "      <td>AmericanIPA</td>\n",
       "      <td>40-45</td>\n",
       "      <td>45-50</td>\n",
       "      <td>3.40</td>\n",
       "    </tr>\n",
       "    <tr>\n",
       "      <th>185642</th>\n",
       "      <td>6.4</td>\n",
       "      <td>4341</td>\n",
       "      <td>(Curried,Thai)Cheese(pepperyMontereyPepperJack...</td>\n",
       "      <td>PintGlass(orBecker,Nonic,Tumbler),Mug(orSeidel...</td>\n",
       "      <td>149979</td>\n",
       "      <td>1</td>\n",
       "      <td>AmericanIPA</td>\n",
       "      <td>40-45</td>\n",
       "      <td>45-50</td>\n",
       "      <td>4.31</td>\n",
       "    </tr>\n",
       "  </tbody>\n",
       "</table>\n",
       "</div>"
      ],
      "text/plain": [
       "        ABV  Brewing Company  \\\n",
       "185638  4.5             9105   \n",
       "185639  4.5             3348   \n",
       "185640  NaN             8216   \n",
       "185641  6.2             1755   \n",
       "185642  6.4             4341   \n",
       "\n",
       "                                              Food Paring  \\\n",
       "185638                       (Dessert,Aperitif,Digestive)   \n",
       "185639  (Barbecue,Italian)Cheese(earthyCamembert,Fonti...   \n",
       "185640  Cheese(earthyCamembert,Fontina,nuttyAsiago,Col...   \n",
       "185641  (Curried,Thai)Cheese(pepperyMontereyPepperJack...   \n",
       "185642  (Curried,Thai)Cheese(pepperyMontereyPepperJack...   \n",
       "\n",
       "                                           Glassware Used  Beer Name Ratings  \\\n",
       "185638  PintGlass(orBecker,Nonic,Tumbler),Mug(orSeidel...     141522       0   \n",
       "185639                             PilsenerGlass(orPokal)      85557       1   \n",
       "185640  PintGlass(orBecker,Nonic,Tumbler),Mug(orSeidel...     105072       1   \n",
       "185641  PintGlass(orBecker,Nonic,Tumbler),Mug(orSeidel...      70788       2   \n",
       "185642  PintGlass(orBecker,Nonic,Tumbler),Mug(orSeidel...     149979       1   \n",
       "\n",
       "               Style Name Cellar Temperature Serving Temperature  Score  \n",
       "185638   HerbedSpicedBeer                NaN               45-50   0.00  \n",
       "185639  AmericanPaleLager              35-40               40-45   4.19  \n",
       "185640    EnglishBrownAle              40-45               45-50   3.11  \n",
       "185641        AmericanIPA              40-45               45-50   3.40  \n",
       "185642        AmericanIPA              40-45               45-50   4.31  "
      ]
     },
     "execution_count": 3,
     "metadata": {},
     "output_type": "execute_result"
    }
   ],
   "source": [
    "train.tail()"
   ]
  },
  {
   "cell_type": "code",
   "execution_count": 4,
   "metadata": {},
   "outputs": [
    {
     "data": {
      "text/plain": [
       "[('ABV', dtype('float64'), 15130),\n",
       " ('Brewing Company', dtype('int64'), 0),\n",
       " ('Food Paring', dtype('O'), 0),\n",
       " ('Glassware Used', dtype('O'), 0),\n",
       " ('Beer Name', dtype('int64'), 0),\n",
       " ('Ratings', dtype('O'), 0),\n",
       " ('Style Name', dtype('O'), 0),\n",
       " ('Cellar Temperature', dtype('O'), 6781),\n",
       " ('Serving Temperature', dtype('O'), 193),\n",
       " ('Score', dtype('float64'), 0)]"
      ]
     },
     "execution_count": 4,
     "metadata": {},
     "output_type": "execute_result"
    }
   ],
   "source": [
    "list(zip(train.columns,train.dtypes,train.isnull().sum()))"
   ]
  },
  {
   "cell_type": "code",
   "execution_count": 5,
   "metadata": {},
   "outputs": [
    {
     "data": {
      "text/plain": [
       "[('ABV', dtype('float64'), 1664),\n",
       " ('Brewing Company', dtype('int64'), 0),\n",
       " ('Food Paring', dtype('O'), 0),\n",
       " ('Glassware Used', dtype('O'), 0),\n",
       " ('Beer Name', dtype('int64'), 0),\n",
       " ('Ratings', dtype('O'), 0),\n",
       " ('Style Name', dtype('O'), 0),\n",
       " ('Cellar Temperature', dtype('O'), 755),\n",
       " ('Serving Temperature', dtype('O'), 21)]"
      ]
     },
     "execution_count": 5,
     "metadata": {},
     "output_type": "execute_result"
    }
   ],
   "source": [
    "list(zip(test.columns,test.dtypes,test.isnull().sum()))"
   ]
  },
  {
   "cell_type": "code",
   "execution_count": 6,
   "metadata": {},
   "outputs": [],
   "source": [
    "test['Cellar Temperature'].fillna(test['Cellar Temperature'].mode(), inplace=True)\n",
    "test['Serving Temperature'].fillna(test['Serving Temperature'].mode(), inplace=True)\n",
    "test['ABV'].fillna(train['ABV'].mean(), inplace=True)\n",
    "\n",
    "train['Cellar Temperature'].fillna(train['Cellar Temperature'].mode(), inplace=True)\n",
    "train['Serving Temperature'].fillna(train['Serving Temperature'].mode(), inplace=True)\n",
    "train['ABV'].fillna(train['ABV'].mean(), inplace=True)"
   ]
  },
  {
   "cell_type": "code",
   "execution_count": 7,
   "metadata": {},
   "outputs": [],
   "source": [
    "train[\"Food Paring\"]=train[\"Food Paring\"].astype(str)\n",
    "train[\"Cellar Temperature\"]=train[\"Cellar Temperature\"].astype(str)\n",
    "train[\"Serving Temperature\"]=train[\"Serving Temperature\"].astype(str)\n",
    "\n",
    "test[\"Food Paring\"]=test[\"Food Paring\"].astype(str)\n",
    "test[\"Cellar Temperature\"]=test[\"Cellar Temperature\"].astype(str)\n",
    "test[\"Serving Temperature\"]=test[\"Serving Temperature\"].astype(str)"
   ]
  },
  {
   "cell_type": "code",
   "execution_count": 8,
   "metadata": {},
   "outputs": [],
   "source": [
    "train[\"Ratings\"]=train[\"Ratings\"].str.replace(\",\",\"\")\n",
    "train[\"Ratings\"]=train[\"Ratings\"].astype(str).astype(int)\n",
    "\n",
    "test[\"Ratings\"]=test[\"Ratings\"].str.replace(\",\",\"\")\n",
    "test[\"Ratings\"]=test[\"Ratings\"].astype(str).astype(int)"
   ]
  },
  {
   "cell_type": "code",
   "execution_count": 9,
   "metadata": {},
   "outputs": [],
   "source": [
    "from sklearn import preprocessing \n",
    "label_encoder = preprocessing.LabelEncoder() \n",
    "train['ABV']= label_encoder.fit_transform(train['ABV'])\n",
    "train['Food Paring']= label_encoder.fit_transform(train['Food Paring'])\n",
    "train['Glassware Used']= label_encoder.fit_transform(train['Glassware Used'])\n",
    "train['Style Name']= label_encoder.fit_transform(train['Style Name'])\n",
    "train['Cellar Temperature']= label_encoder.fit_transform(train['Cellar Temperature'])\n",
    "train['Serving Temperature']= label_encoder.fit_transform(train['Serving Temperature'])\n",
    "\n",
    "label_encoder = preprocessing.LabelEncoder() \n",
    "test['ABV']= label_encoder.fit_transform(test['ABV'])\n",
    "test['Food Paring']= label_encoder.fit_transform(test['Food Paring'])\n",
    "test['Glassware Used']= label_encoder.fit_transform(test['Glassware Used'])\n",
    "test['Style Name']= label_encoder.fit_transform(test['Style Name'])\n",
    "test['Cellar Temperature']= label_encoder.fit_transform(test['Cellar Temperature'])\n",
    "test['Serving Temperature']= label_encoder.fit_transform(test['Serving Temperature'])"
   ]
  },
  {
   "cell_type": "code",
   "execution_count": 10,
   "metadata": {},
   "outputs": [],
   "source": [
    "x_train=train.drop('Score', axis=1)\n",
    "x_test=test\n",
    "y_train=train['Score']"
   ]
  },
  {
   "cell_type": "code",
   "execution_count": 11,
   "metadata": {},
   "outputs": [
    {
     "data": {
      "text/html": [
       "<div>\n",
       "<style scoped>\n",
       "    .dataframe tbody tr th:only-of-type {\n",
       "        vertical-align: middle;\n",
       "    }\n",
       "\n",
       "    .dataframe tbody tr th {\n",
       "        vertical-align: top;\n",
       "    }\n",
       "\n",
       "    .dataframe thead th {\n",
       "        text-align: right;\n",
       "    }\n",
       "</style>\n",
       "<table border=\"1\" class=\"dataframe\">\n",
       "  <thead>\n",
       "    <tr style=\"text-align: right;\">\n",
       "      <th></th>\n",
       "      <th>ABV</th>\n",
       "      <th>Brewing Company</th>\n",
       "      <th>Food Paring</th>\n",
       "      <th>Glassware Used</th>\n",
       "      <th>Beer Name</th>\n",
       "      <th>Ratings</th>\n",
       "      <th>Style Name</th>\n",
       "      <th>Cellar Temperature</th>\n",
       "      <th>Serving Temperature</th>\n",
       "    </tr>\n",
       "  </thead>\n",
       "  <tbody>\n",
       "    <tr>\n",
       "      <th>0</th>\n",
       "      <td>293</td>\n",
       "      <td>8929</td>\n",
       "      <td>26</td>\n",
       "      <td>18</td>\n",
       "      <td>15121</td>\n",
       "      <td>22</td>\n",
       "      <td>12</td>\n",
       "      <td>1</td>\n",
       "      <td>2</td>\n",
       "    </tr>\n",
       "    <tr>\n",
       "      <th>1</th>\n",
       "      <td>201</td>\n",
       "      <td>13187</td>\n",
       "      <td>58</td>\n",
       "      <td>18</td>\n",
       "      <td>59817</td>\n",
       "      <td>1</td>\n",
       "      <td>14</td>\n",
       "      <td>0</td>\n",
       "      <td>1</td>\n",
       "    </tr>\n",
       "    <tr>\n",
       "      <th>2</th>\n",
       "      <td>417</td>\n",
       "      <td>6834</td>\n",
       "      <td>85</td>\n",
       "      <td>18</td>\n",
       "      <td>32669</td>\n",
       "      <td>3</td>\n",
       "      <td>63</td>\n",
       "      <td>0</td>\n",
       "      <td>1</td>\n",
       "    </tr>\n",
       "    <tr>\n",
       "      <th>3</th>\n",
       "      <td>279</td>\n",
       "      <td>11688</td>\n",
       "      <td>47</td>\n",
       "      <td>22</td>\n",
       "      <td>130798</td>\n",
       "      <td>0</td>\n",
       "      <td>13</td>\n",
       "      <td>0</td>\n",
       "      <td>0</td>\n",
       "    </tr>\n",
       "    <tr>\n",
       "      <th>4</th>\n",
       "      <td>246</td>\n",
       "      <td>10417</td>\n",
       "      <td>86</td>\n",
       "      <td>14</td>\n",
       "      <td>124087</td>\n",
       "      <td>1</td>\n",
       "      <td>50</td>\n",
       "      <td>0</td>\n",
       "      <td>1</td>\n",
       "    </tr>\n",
       "  </tbody>\n",
       "</table>\n",
       "</div>"
      ],
      "text/plain": [
       "   ABV  Brewing Company  Food Paring  Glassware Used  Beer Name  Ratings  \\\n",
       "0  293             8929           26              18      15121       22   \n",
       "1  201            13187           58              18      59817        1   \n",
       "2  417             6834           85              18      32669        3   \n",
       "3  279            11688           47              22     130798        0   \n",
       "4  246            10417           86              14     124087        1   \n",
       "\n",
       "   Style Name  Cellar Temperature  Serving Temperature  \n",
       "0          12                   1                    2  \n",
       "1          14                   0                    1  \n",
       "2          63                   0                    1  \n",
       "3          13                   0                    0  \n",
       "4          50                   0                    1  "
      ]
     },
     "execution_count": 11,
     "metadata": {},
     "output_type": "execute_result"
    }
   ],
   "source": [
    "x_train.head()"
   ]
  },
  {
   "cell_type": "code",
   "execution_count": 25,
   "metadata": {},
   "outputs": [
    {
     "data": {
      "text/plain": [
       "185643"
      ]
     },
     "execution_count": 25,
     "metadata": {},
     "output_type": "execute_result"
    }
   ],
   "source": [
    "len(y_train)"
   ]
  },
  {
   "cell_type": "code",
   "execution_count": 28,
   "metadata": {},
   "outputs": [],
   "source": [
    "from sklearn.metrics import mean_squared_error\n",
    "# Fitting Multiple Linear Regression to the Training set\n",
    "from sklearn.linear_model import LinearRegression\n",
    "regressor = LinearRegression()\n",
    "regressor.fit(x_train, y_train)\n",
    "\n",
    "# Predicting the Test set results\n",
    "y_pred = regressor.predict(x_test)"
   ]
  },
  {
   "cell_type": "code",
   "execution_count": 34,
   "metadata": {},
   "outputs": [],
   "source": [
    "final=pd.DataFrame(y_pred)\n",
    "final=final.rename(columns={0:'Score'})\n",
    "from pandas import ExcelWriter\n",
    "from pandas import ExcelFile\n",
    "writer= ExcelWriter('Beer.xlsx')\n",
    "final.to_excel(writer,'sheet1',index=False)\n",
    "writer.save()"
   ]
  },
  {
   "cell_type": "code",
   "execution_count": 30,
   "metadata": {},
   "outputs": [
    {
     "ename": "ValueError",
     "evalue": "Found input variables with inconsistent numbers of samples: [185643, 20628]",
     "output_type": "error",
     "traceback": [
      "\u001b[1;31m---------------------------------------------------------------------------\u001b[0m",
      "\u001b[1;31mValueError\u001b[0m                                Traceback (most recent call last)",
      "\u001b[1;32m<ipython-input-30-7ecbbc86af74>\u001b[0m in \u001b[0;36m<module>\u001b[1;34m()\u001b[0m\n\u001b[1;32m----> 1\u001b[1;33m \u001b[0mmse\u001b[0m\u001b[1;33m=\u001b[0m\u001b[0mmean_squared_error\u001b[0m\u001b[1;33m(\u001b[0m\u001b[0my_train\u001b[0m\u001b[1;33m,\u001b[0m\u001b[0my_pred\u001b[0m\u001b[1;33m)\u001b[0m\u001b[1;33m\u001b[0m\u001b[0m\n\u001b[0m\u001b[0;32m      2\u001b[0m \u001b[0mrmse\u001b[0m\u001b[1;33m=\u001b[0m\u001b[0mnp\u001b[0m\u001b[1;33m.\u001b[0m\u001b[0msqrt\u001b[0m\u001b[1;33m(\u001b[0m\u001b[0mmse\u001b[0m\u001b[1;33m)\u001b[0m\u001b[1;33m\u001b[0m\u001b[0m\n\u001b[0;32m      3\u001b[0m \u001b[1;31m#rsquare=regmod.score(xval,yval)\u001b[0m\u001b[1;33m\u001b[0m\u001b[1;33m\u001b[0m\u001b[0m\n\u001b[0;32m      4\u001b[0m \u001b[0mprint\u001b[0m\u001b[1;33m(\u001b[0m\u001b[0mmse\u001b[0m\u001b[1;33m)\u001b[0m\u001b[1;33m\u001b[0m\u001b[0m\n\u001b[0;32m      5\u001b[0m \u001b[0mprint\u001b[0m\u001b[1;33m(\u001b[0m\u001b[0mrmse\u001b[0m\u001b[1;33m)\u001b[0m\u001b[1;33m\u001b[0m\u001b[0m\n",
      "\u001b[1;32mC:\\ProgramData\\Anaconda3\\lib\\site-packages\\sklearn\\metrics\\regression.py\u001b[0m in \u001b[0;36mmean_squared_error\u001b[1;34m(y_true, y_pred, sample_weight, multioutput)\u001b[0m\n\u001b[0;32m    236\u001b[0m     \"\"\"\n\u001b[0;32m    237\u001b[0m     y_type, y_true, y_pred, multioutput = _check_reg_targets(\n\u001b[1;32m--> 238\u001b[1;33m         y_true, y_pred, multioutput)\n\u001b[0m\u001b[0;32m    239\u001b[0m     output_errors = np.average((y_true - y_pred) ** 2, axis=0,\n\u001b[0;32m    240\u001b[0m                                weights=sample_weight)\n",
      "\u001b[1;32mC:\\ProgramData\\Anaconda3\\lib\\site-packages\\sklearn\\metrics\\regression.py\u001b[0m in \u001b[0;36m_check_reg_targets\u001b[1;34m(y_true, y_pred, multioutput)\u001b[0m\n\u001b[0;32m     73\u001b[0m \u001b[1;33m\u001b[0m\u001b[0m\n\u001b[0;32m     74\u001b[0m     \"\"\"\n\u001b[1;32m---> 75\u001b[1;33m     \u001b[0mcheck_consistent_length\u001b[0m\u001b[1;33m(\u001b[0m\u001b[0my_true\u001b[0m\u001b[1;33m,\u001b[0m \u001b[0my_pred\u001b[0m\u001b[1;33m)\u001b[0m\u001b[1;33m\u001b[0m\u001b[0m\n\u001b[0m\u001b[0;32m     76\u001b[0m     \u001b[0my_true\u001b[0m \u001b[1;33m=\u001b[0m \u001b[0mcheck_array\u001b[0m\u001b[1;33m(\u001b[0m\u001b[0my_true\u001b[0m\u001b[1;33m,\u001b[0m \u001b[0mensure_2d\u001b[0m\u001b[1;33m=\u001b[0m\u001b[1;32mFalse\u001b[0m\u001b[1;33m)\u001b[0m\u001b[1;33m\u001b[0m\u001b[0m\n\u001b[0;32m     77\u001b[0m     \u001b[0my_pred\u001b[0m \u001b[1;33m=\u001b[0m \u001b[0mcheck_array\u001b[0m\u001b[1;33m(\u001b[0m\u001b[0my_pred\u001b[0m\u001b[1;33m,\u001b[0m \u001b[0mensure_2d\u001b[0m\u001b[1;33m=\u001b[0m\u001b[1;32mFalse\u001b[0m\u001b[1;33m)\u001b[0m\u001b[1;33m\u001b[0m\u001b[0m\n",
      "\u001b[1;32mC:\\ProgramData\\Anaconda3\\lib\\site-packages\\sklearn\\utils\\validation.py\u001b[0m in \u001b[0;36mcheck_consistent_length\u001b[1;34m(*arrays)\u001b[0m\n\u001b[0;32m    202\u001b[0m     \u001b[1;32mif\u001b[0m \u001b[0mlen\u001b[0m\u001b[1;33m(\u001b[0m\u001b[0muniques\u001b[0m\u001b[1;33m)\u001b[0m \u001b[1;33m>\u001b[0m \u001b[1;36m1\u001b[0m\u001b[1;33m:\u001b[0m\u001b[1;33m\u001b[0m\u001b[0m\n\u001b[0;32m    203\u001b[0m         raise ValueError(\"Found input variables with inconsistent numbers of\"\n\u001b[1;32m--> 204\u001b[1;33m                          \" samples: %r\" % [int(l) for l in lengths])\n\u001b[0m\u001b[0;32m    205\u001b[0m \u001b[1;33m\u001b[0m\u001b[0m\n\u001b[0;32m    206\u001b[0m \u001b[1;33m\u001b[0m\u001b[0m\n",
      "\u001b[1;31mValueError\u001b[0m: Found input variables with inconsistent numbers of samples: [185643, 20628]"
     ]
    }
   ],
   "source": [
    "mse=mean_squared_error(y_train,y_pred)\n",
    "rmse=np.sqrt(mse)\n",
    "#rsquare=regmod.score(xval,yval)\n",
    "print(mse)\n",
    "print(rmse)"
   ]
  }
 ],
 "metadata": {
  "kernelspec": {
   "display_name": "Python 3",
   "language": "python",
   "name": "python3"
  },
  "language_info": {
   "codemirror_mode": {
    "name": "ipython",
    "version": 3
   },
   "file_extension": ".py",
   "mimetype": "text/x-python",
   "name": "python",
   "nbconvert_exporter": "python",
   "pygments_lexer": "ipython3",
   "version": "3.7.0"
  }
 },
 "nbformat": 4,
 "nbformat_minor": 2
}
